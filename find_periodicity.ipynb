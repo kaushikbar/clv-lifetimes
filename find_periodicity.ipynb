{
 "cells": [
  {
   "cell_type": "code",
   "execution_count": 1,
   "metadata": {
    "ExecuteTime": {
     "end_time": "2020-05-28T18:20:55.359222Z",
     "start_time": "2020-05-28T18:20:55.351242Z"
    }
   },
   "outputs": [],
   "source": [
    "# https://gist.github.com/endolith/255291\n",
    "# https://stackoverflow.com/questions/49531952/find-period-of-a-signal-out-of-the-fft"
   ]
  },
  {
   "cell_type": "code",
   "execution_count": 2,
   "metadata": {
    "ExecuteTime": {
     "end_time": "2020-05-28T18:20:56.829175Z",
     "start_time": "2020-05-28T18:20:55.363212Z"
    }
   },
   "outputs": [
    {
     "name": "stderr",
     "output_type": "stream",
     "text": [
      "C:\\Users\\Kaushik\\Anaconda3\\lib\\site-packages\\numpy\\_distributor_init.py:32: UserWarning: loaded more than 1 DLL from .libs:\n",
      "C:\\Users\\Kaushik\\Anaconda3\\lib\\site-packages\\numpy\\.libs\\libopenblas.IPBC74C7KURV7CB2PKT5Z5FNR3SIBV4J.gfortran-win_amd64.dll\n",
      "C:\\Users\\Kaushik\\Anaconda3\\lib\\site-packages\\numpy\\.libs\\libopenblas.PYQHXLVVQ7VESDPUVUADXEVJOBGHJPAY.gfortran-win_amd64.dll\n",
      "  stacklevel=1)\n"
     ]
    }
   ],
   "source": [
    "import numpy as np\n",
    "from scipy.signal import blackmanharris, correlate\n",
    "import parabolic\n",
    "import matplotlib.pyplot as plt"
   ]
  },
  {
   "cell_type": "code",
   "execution_count": 3,
   "metadata": {
    "ExecuteTime": {
     "end_time": "2020-05-28T18:20:56.862049Z",
     "start_time": "2020-05-28T18:20:56.832129Z"
    }
   },
   "outputs": [],
   "source": [
    "ts_0 = [2.762, 2.762, 1.508, 2.758, 2.765, 2.765, 2.761, 1.507, 2.757, 2.757, 2.764, 2.764, 1.512, 2.76, 2.766, 2.766, 2.763, 1.51, 2.759, 2.759, 2.765, 2.765, 1.514, 2.761, 2.758, 2.758, 2.764, 1.513, 2.76, 2.76, 2.757, 2.757, 1.508, 2.763, 2.759, 2.759, 2.766, 1.517]\n",
    "\n",
    "ts_1 = [2.762, 2.762, 1.508, 2.758, 2.765, 2.765, 2.761, 1.507, 2.757, 2.757, 2.764, 2.764, 1.512, 2.76, 2.766, 2.766, 2.763, 1.51, 2.759, 2.759, 2.765, 2.765, 1.514, 2.761, 2.758, 2.758, 2.764, 1.513, 2.76, 2.76, 2.757, 2.757, 1.508, 2.763, 2.759, 2.759, 2.766, 1.517, 4.012]\n",
    "\n",
    "ts_2 = [2.762, 2.762, 1.508, 1.508, 1.608, 2.758, 2.765, 2.765, 2.761, 1.507, 1.517, 2.757, 2.757, 2.764, 1.512, 2.76, 2.766, 2.766, 2.763, 1.51, 1.508, 1.608, 2.759, 2.759, 2.765, 2.765, 1.514, 1.524, 1.514, 2.761, 2.758, 2.758, 2.764, 1.513, 1.514, 1.514, 2.76, 2.76, 1.508, 1.511, 1.522, 2.763, 2.759, 2.759, 2.766, 1.517]\n",
    "\n",
    "ts_3 = [2.762, 2.762, 1.508, 1.508, 1.608, 2.758, 4.765, 2.065, 2.761, 1.507, 1.517, 2.757, 4.757, 2.964, 1.512, 2.76, 2.766, 2.766, 2.763, 1.51, 1.508, 1.608, 2.759, 4.759, 2.065, 2.765, 1.514, 1.524, 1.514, 2.761, 5.758, 2.158, 2.764, 1.513, 1.514, 1.514, 2.76, 2.76, 1.508, 1.511, 1.522, 2.763, 4.759, 2.759, 2.766, 1.517]\n",
    "\n",
    "ts_4 = [2.762, 2.762, 1.508, 1.508, 1.608, 2.758, 2.765]"
   ]
  },
  {
   "cell_type": "code",
   "execution_count": 4,
   "metadata": {
    "ExecuteTime": {
     "end_time": "2020-05-28T18:20:58.436866Z",
     "start_time": "2020-05-28T18:20:56.867035Z"
    }
   },
   "outputs": [
    {
     "data": {
      "image/png": "[encoded data removed]",
      "text/plain": [
       "<Figure size 432x288 with 1 Axes>"
      ]
     },
     "metadata": {
      "needs_background": "light"
     },
     "output_type": "display_data"
    }
   ],
   "source": [
    "ts = ts_3\n",
    "plt.plot(ts);"
   ]
  },
  {
   "cell_type": "code",
   "execution_count": 5,
   "metadata": {
    "ExecuteTime": {
     "end_time": "2020-05-28T18:20:58.448801Z",
     "start_time": "2020-05-28T18:20:58.441817Z"
    }
   },
   "outputs": [],
   "source": [
    "high_thr = 4.0"
   ]
  },
  {
   "cell_type": "code",
   "execution_count": 6,
   "metadata": {
    "ExecuteTime": {
     "end_time": "2020-05-28T18:20:58.616346Z",
     "start_time": "2020-05-28T18:20:58.452792Z"
    }
   },
   "outputs": [],
   "source": [
    "def parabolic_interpolation(f, x):\n",
    "    \"\"\"Quadratic interpolation for estimating the true position of an\n",
    "    inter-sample maximum when nearby samples are known.\n",
    "    f is a vector and x is an index for that vector.\n",
    "    Returns (vx, vy), the coordinates of the vertex of a parabola that goes\n",
    "    through point x and its two neighbors.\n",
    "    Example:\n",
    "    Defining a vector f with a local maximum at index 3 (= 6), find local\n",
    "    maximum if points 2, 3, and 4 actually defined a parabola.\n",
    "    In [3]: f = [2, 3, 1, 6, 4, 2, 3, 1]\n",
    "    In [4]: parabolic_interpolation(f, argmax(f))\n",
    "    Out[4]: (3.2142857142857144, 6.1607142857142856)\n",
    "    \"\"\"\n",
    "    xv = 1/2. * (f[x-1] - f[x+1]) / (f[x-1] - 2 * f[x] + f[x+1]) + x\n",
    "    yv = f[x] - 1/4. * (f[x-1] - f[x+1]) * (xv - x)\n",
    "    return (xv, yv)\n",
    "\n",
    "def find_periodicity_from_crossings(sig, high_thr, fs=1): \n",
    "    \"\"\"\n",
    "    Estimate frequency by counting crossings of high threshold\n",
    "    \"\"\"\n",
    "    # Find all indices right before a rising-edge\n",
    "    sig = np.array(sig)\n",
    "    indices = np.nonzero((sig[1:] >= high_thr) & (sig[:-1] < high_thr))[0]\n",
    "\n",
    "    # Using linear interpolation to find intersample crossings\n",
    "    crossings = [i - sig[i] / (sig[i+1] - sig[i]) for i in indices]\n",
    "\n",
    "    # Find periodicity\n",
    "    return np.mean(np.diff(crossings)) / fs\n",
    "\n",
    "def find_periodicity_from_autocorr(sig, fs=1):\n",
    "    \"\"\"\n",
    "    Estimate frequency using autocorrelation\n",
    "    \"\"\"\n",
    "    # Calculate autocorrelation and throw away the negative lags\n",
    "    corr = correlate(sig, sig, mode='full')\n",
    "    corr = corr[len(corr)//2:]\n",
    "\n",
    "    # Find the first low point\n",
    "    d = np.diff(corr)\n",
    "    if len(np.nonzero(d > 0)[0]) > 0:\n",
    "        start = np.nonzero(d > 0)[0][0]\n",
    "    else:\n",
    "        start = np.argmax(d)\n",
    "\n",
    "    # Find the next peak after the low point (other than 0 lag).  This bit is\n",
    "    # not reliable for long signals, due to the desired peak occurring between\n",
    "    # samples, and other peaks appearing higher.\n",
    "    # Should use a weighting function to de-emphasize the peaks at longer lags.\n",
    "    peak = np.argmax(corr[start:]) + start\n",
    "    px, py = parabolic_interpolation(corr, peak)\n",
    "    \n",
    "    # Find periodicity\n",
    "    return px / fs\n",
    "\n",
    "def find_periodicity(sig, high_thr, fs=1):\n",
    "    periodicity = find_periodicity_from_crossings(sig, high_thr, fs)\n",
    "    if np.isnan(periodicity):\n",
    "        periodicity = find_periodicity_from_autocorr(sig, fs)\n",
    "    \n",
    "    return periodicity"
   ]
  },
  {
   "cell_type": "code",
   "execution_count": 7,
   "metadata": {
    "ExecuteTime": {
     "end_time": "2020-05-28T18:20:58.740751Z",
     "start_time": "2020-05-28T18:20:58.619340Z"
    }
   },
   "outputs": [
    {
     "data": {
      "text/plain": [
       "8.99748044918936"
      ]
     },
     "execution_count": 7,
     "metadata": {},
     "output_type": "execute_result"
    }
   ],
   "source": [
    "find_periodicity(ts, high_thr)"
   ]
  },
  {
   "cell_type": "code",
   "execution_count": null,
   "metadata": {},
   "outputs": [],
   "source": []
  }
 ],
 "metadata": {
  "kernelspec": {
   "display_name": "Python 3",
   "language": "python",
   "name": "python3"
  },
  "language_info": {
   "codemirror_mode": {
    "name": "ipython",
    "version": 3
   },
   "file_extension": ".py",
   "mimetype": "text/x-python",
   "name": "python",
   "nbconvert_exporter": "python",
   "pygments_lexer": "ipython3",
   "version": "3.6.6"
  },
  "toc": {
   "base_numbering": 1,
   "nav_menu": {},
   "number_sections": true,
   "sideBar": true,
   "skip_h1_title": false,
   "title_cell": "Table of Contents",
   "title_sidebar": "Contents",
   "toc_cell": false,
   "toc_position": {},
   "toc_section_display": true,
   "toc_window_display": false
  }
 },
 "nbformat": 4,
 "nbformat_minor": 2
}
