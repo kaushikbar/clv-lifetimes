{
 "cells": [
  {
   "cell_type": "code",
   "execution_count": 66,
   "metadata": {
    "ExecuteTime": {
     "end_time": "2020-07-24T13:04:39.296675Z",
     "start_time": "2020-07-24T13:04:39.273563Z"
    }
   },
   "outputs": [],
   "source": [
    "import numpy as np\n",
    "from scipy.signal import correlate\n",
    "import parabolic\n",
    "import matplotlib.pyplot as plt"
   ]
  },
  {
   "cell_type": "code",
   "execution_count": 89,
   "metadata": {
    "ExecuteTime": {
     "end_time": "2020-07-24T13:06:32.775020Z",
     "start_time": "2020-07-24T13:06:32.524454Z"
    }
   },
   "outputs": [],
   "source": [
    "def parabolic_interpolation(f, x):\n",
    "    \"\"\"Quadratic interpolation for estimating the true position of an\n",
    "    inter-sample maximum when nearby samples are known.\n",
    "    f is a vector and x is an index for that vector.\n",
    "    Returns (vx, vy), the coordinates of the vertex of a parabola that goes\n",
    "    through point x and its two neighbors.\n",
    "    Example:\n",
    "    Defining a vector f with a local maximum at index 3 (= 6), find local\n",
    "    maximum if points 2, 3, and 4 actually defined a parabola.\n",
    "    In [3]: f = [2, 3, 1, 6, 4, 2, 3, 1]\n",
    "    In [4]: parabolic_interpolation(f, argmax(f))\n",
    "    Out[4]: (3.2142857142857144, 6.1607142857142856)\n",
    "    \"\"\"\n",
    "    xv = 1/2. * (f[x-1] - f[x+1]) / (f[x-1] - 2 * f[x] + f[x+1]) + x\n",
    "    yv = f[x] - 1/4. * (f[x-1] - f[x+1]) * (xv - x)\n",
    "    return (xv, yv)\n",
    "\n",
    "def find_periodicity_from_crossings(sig, high_thr, low_thr, fs=1): \n",
    "    \"\"\"\n",
    "    Estimate frequency by counting crossings of high threshold\n",
    "    \"\"\"\n",
    "    sig = np.array(sig)\n",
    "    \n",
    "    # Find all indices right before a rising-edge  \n",
    "    indices = np.nonzero((sig[1:] >= high_thr) & (sig[:-1] < high_thr))[0]\n",
    "\n",
    "    # Intersample crossings\n",
    "    crossings = indices\n",
    "\n",
    "    # Find periodicity\n",
    "    return np.mean(np.diff(crossings)) / fs\n",
    "\n",
    "def find_periodicity_from_autocorr(sig, fs=1):\n",
    "    \"\"\"\n",
    "    Estimate frequency using autocorrelation\n",
    "    \"\"\"\n",
    "    # Calculate autocorrelation and throw away the negative lags\n",
    "    corr = correlate(sig, sig, mode='full')\n",
    "    corr = corr[len(corr)//2:]\n",
    "\n",
    "    # Find the first low point\n",
    "    d = np.diff(corr)\n",
    "    if len(np.nonzero(d > 0)[0]) > 0:\n",
    "        start = np.nonzero(d > 0)[0][0]\n",
    "    else:\n",
    "        start = np.argmax(d)\n",
    "\n",
    "    # Find the next peak after the low point (other than 0 lag).  This bit is\n",
    "    # not reliable for long signals, due to the desired peak occurring between\n",
    "    # samples, and other peaks appearing higher.\n",
    "    # Should use a weighting function to de-emphasize the peaks at longer lags.\n",
    "    peak = np.argmax(corr[start:]) + start\n",
    "    peak = min(len(corr)-2, peak)\n",
    "    px, py = parabolic_interpolation(corr, peak)\n",
    "    \n",
    "    # Find periodicity\n",
    "    return px / fs\n",
    "\n",
    "def find_periodicity_candidates(sig, high_thr, fs=1):\n",
    "    T_crossings = find_periodicity_from_crossings(sig, high_thr, fs)\n",
    "    T_autocorr = find_periodicity_from_autocorr(sig, fs)\n",
    "    mean_periodicity = np.mean([T_crossings, T_autocorr])\n",
    "    \n",
    "    periodicity_candidates = []\n",
    "    if not np.isnan(T_crossings):\n",
    "        periodicity_candidates.append(np.round(T_crossings))\n",
    "    if not np.isnan(T_autocorr):\n",
    "        periodicity_candidates.append(np.round(T_autocorr))   \n",
    "    if not np.isnan(mean_periodicity):\n",
    "        periodicity_candidates.append(np.round(mean_periodicity))\n",
    "        \n",
    "    return list(np.unique(periodicity_candidates))"
   ]
  },
  {
   "cell_type": "code",
   "execution_count": 90,
   "metadata": {
    "ExecuteTime": {
     "end_time": "2020-07-24T13:06:33.469558Z",
     "start_time": "2020-07-24T13:06:33.435752Z"
    }
   },
   "outputs": [],
   "source": [
    "ts_1 = [0,0,0,50,0,0,0,100,0,0,0,50,0,0,0,100,0,0,0,50,0,0,0,100,0,0,0,50,0,0,0,100,0,0,0,50,0,0,0,100]\n",
    "\n",
    "ts_2 = [0,0,0,50,0,0,100,0,0,0,50,0,0,100,0,0,0,50,0,0,100,0,0,0,50,0,0,100,0,0,0,50,0,0,100]\n",
    "\n",
    "ts_3 = [0,0,0,50,0,0,100,0,0,0,50,0,0,200,0,0,0,50,0,0,100,0,0,0,50,0,0,200,0,0,0,50,0,0,100]"
   ]
  },
  {
   "cell_type": "code",
   "execution_count": 100,
   "metadata": {
    "ExecuteTime": {
     "end_time": "2020-07-24T13:06:59.186900Z",
     "start_time": "2020-07-24T13:06:58.837571Z"
    }
   },
   "outputs": [
    {
     "data": {
      "image/png": "[encoded data removed]",
      "text/plain": [
       "<Figure size 432x288 with 1 Axes>"
      ]
     },
     "metadata": {
      "needs_background": "light"
     },
     "output_type": "display_data"
    }
   ],
   "source": [
    "ts = ts_3\n",
    "plt.plot(ts);"
   ]
  },
  {
   "cell_type": "code",
   "execution_count": 101,
   "metadata": {
    "ExecuteTime": {
     "end_time": "2020-07-24T13:06:59.202896Z",
     "start_time": "2020-07-24T13:06:59.192719Z"
    }
   },
   "outputs": [
    {
     "name": "stdout",
     "output_type": "stream",
     "text": [
      "139.99999999999986\n"
     ]
    }
   ],
   "source": [
    "ts_sorted = sorted(np.unique(ts), reverse=True)\n",
    "high_thr = np.mean([np.quantile(ts, 0.95), np.mean([ts_sorted[0],ts_sorted[1]])])\n",
    "print(high_thr)"
   ]
  },
  {
   "cell_type": "code",
   "execution_count": 102,
   "metadata": {
    "ExecuteTime": {
     "end_time": "2020-07-24T13:06:59.504043Z",
     "start_time": "2020-07-24T13:06:59.490163Z"
    }
   },
   "outputs": [
    {
     "data": {
      "text/plain": [
       "[7.0, 10.0, 14.0]"
      ]
     },
     "execution_count": 102,
     "metadata": {},
     "output_type": "execute_result"
    }
   ],
   "source": [
    "find_periodicity_candidates(ts, high_thr)"
   ]
  },
  {
   "cell_type": "code",
   "execution_count": 109,
   "metadata": {
    "ExecuteTime": {
     "end_time": "2020-07-24T13:16:31.264682Z",
     "start_time": "2020-07-24T13:16:31.249060Z"
    }
   },
   "outputs": [
    {
     "data": {
      "text/plain": [
       "[1.0, 4.0, 6.0, 7.0, 8.0, 10.0, 12.0, 14.0, 26.0, 52.0]"
      ]
     },
     "execution_count": 109,
     "metadata": {},
     "output_type": "execute_result"
    }
   ],
   "source": [
    "final_freq_list_for_arima = [1, 4, 6, 8, 12, 26, 52]\n",
    "\n",
    "final_freq_list_for_arima.extend(find_periodicity_candidates(ts, high_thr))\n",
    "final_freq_list_for_arima = list(np.unique(final_freq_list_for_arima))\n",
    "final_freq_list_for_arima"
   ]
  },
  {
   "cell_type": "code",
   "execution_count": null,
   "metadata": {},
   "outputs": [],
   "source": []
  }
 ],
 "metadata": {
  "kernelspec": {
   "display_name": "Python 3",
   "language": "python",
   "name": "python3"
  },
  "language_info": {
   "codemirror_mode": {
    "name": "ipython",
    "version": 3
   },
   "file_extension": ".py",
   "mimetype": "text/x-python",
   "name": "python",
   "nbconvert_exporter": "python",
   "pygments_lexer": "ipython3",
   "version": "3.6.6"
  },
  "toc": {
   "base_numbering": 1,
   "nav_menu": {},
   "number_sections": true,
   "sideBar": true,
   "skip_h1_title": false,
   "title_cell": "Table of Contents",
   "title_sidebar": "Contents",
   "toc_cell": false,
   "toc_position": {},
   "toc_section_display": true,
   "toc_window_display": false
  }
 },
 "nbformat": 4,
 "nbformat_minor": 2
}
